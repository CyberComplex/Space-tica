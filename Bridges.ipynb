{
 "cells": [
  {
   "cell_type": "markdown",
   "metadata": {},
   "source": [
    "Aim and outline approach:\n",
    "Import satellite imagery of Dominica and build an AL Model to identify bridges. Utilise the model pre and post disaster event to rapidly identify bridges that may have been destroyed/damaged and are no longer passable. \n",
    "\n",
    "The intention is to utilise imagery data from Dominica's coastline, broken into three representative data sets: Training; Validation; Test. \n",
    "\n",
    "We will utilise the highest resolution imagery freely available i.e. Planetscope 3.5m resolution data in RGB and IR and overlay Openstreet Map data to identify river crossings by roads (and other elements such as train tracks/footbridges if time/data allows). We will also investigate the utilisation of elevation/LiDAR data to establish if there is enough resolution to identify bridges through rapid small changes in elevation.\n",
    "    \n",
    "    - Set date/time/coordinates\n",
    "        - Date - 16 September 2017. Imagery should be before then and after 2nd October 2017\n",
    "        - Time - any without cloud cover during daylight \n",
    "        - Coordinates \n",
    "            - Dominica \n",
    "            - Capital Roseau - 15°18′05″N 61°23′18″W\n",
    "    - Get imagery\n",
    "        - Sentinel 2 - 10m too low\n",
    "        - Planetscope 3.5m might work\n",
    "    - Get OSM data for bridges and/or roads, rivers, train tracks, footpaths\n",
    "    - Overlay OSM onto imagery\n",
    "    - Play around in QGIS \n",
    "\n",
    "We will pre-process the data to give the highest resolution of bridges, potentially in identifying areas where some difference in colour/IR/NDVI is present over a body of water. \n",
    "\n",
    "    - Play around in QGIS to visually identify most obvious processing that highlights bridges\n",
    "    - Pre-processing code\n",
    "        - Overlay imagery \n",
    "        - Correction for time of day/angle of the sun etc. \n",
    "        - Fancy maths to highlight bridges - Feature engineering?\n",
    "    - Statistical analysis \n",
    "\n",
    "From this and some limited visual inspection we will label the data with bridges.\n",
    "\n",
    "    - Label data - Is this some sort of bounding box around each bridge at specific coordinates? or just a coordinate of the centre of a bridge?\n",
    "\n",
    "We will then break the datasets into the three representative datasets, ensuring a broad mix of rural and built up areas, with an average distribution of number of bridges per image over the three sets. \n",
    "\n",
    "    - Break data into small sections, say 1km^2\n",
    "    - Count bridges in each section, quantity of vegetation and buildings\n",
    "    - Statistical analysis of each section \n",
    "        - visualise outputs\n",
    "    - Create three batches of sections that have the statistically the same number of bridges (average number per image), amount of vegetation and buildings across the batch (or average per image)\n",
    "    - set batches as training, validation, test\n",
    "\n",
    "We will then train a YOLO model with the training data set, validate against the validation data set and then test against the test data set.\n",
    "\n",
    "    - All the standard model training stuff\n",
    "    - Standard model validation stuff\n",
    "    - Test model\n",
    "    - visualise output\n",
    "\n",
    "After building a working model, we will use this same model to against the same data sets from post Hurricane Maria, to identify differences in the outputs and visual inspection of imagery will be utilised to validate the results. Insights will be used here to revalidate/tune the model.\n",
    "\n",
    "    - Import new data\n",
    "    - Process new data\n",
    "    - Run model\n",
    "    - Count bridges \n",
    "    - Determine difference against reference set\n",
    "    - Bring out coordinates of differences\n",
    "    - Overlay differences to new imagery\n",
    "    - Manually inspect.\n",
    "\n",
    "Potential issues:\n",
    "    \n",
    "    - Bridges may be impassable but not destroyed\n",
    "    - Bridges may get covered in mud etc. and change colour. So colour may not be a good factor to identify them\n",
    "    - Thin bridges may not be resolvable\n",
    "    - Bridges surrounded by buildings may not be visible\n",
    "    - Roads may cross water bodies that are underground (pipes/storm drains etc.)\n",
    "     \n",
    "\n",
    "\n"
   ]
  },
  {
   "cell_type": "code",
   "execution_count": 20,
   "metadata": {},
   "outputs": [],
   "source": [
    "%matplotlib inline\n",
    "import os\n",
    "import numpy as np\n",
    "import matplotlib.pyplot as plt\n",
    "#from IPython.display import Image\n",
    "import matplotlib.patches as patches\n",
    "from PIL import Image"
   ]
  },
  {
   "cell_type": "code",
   "execution_count": 3,
   "metadata": {},
   "outputs": [],
   "source": [
    "# Import openstreetmap\n",
    "import osmnx as ox\n",
    "import geojson \n",
    "import geopandas as gpd"
   ]
  },
  {
   "cell_type": "code",
   "execution_count": null,
   "metadata": {},
   "outputs": [
    {
     "data": {
      "text/html": [
       "<div>\n",
       "<style scoped>\n",
       "    .dataframe tbody tr th:only-of-type {\n",
       "        vertical-align: middle;\n",
       "    }\n",
       "\n",
       "    .dataframe tbody tr th {\n",
       "        vertical-align: top;\n",
       "    }\n",
       "\n",
       "    .dataframe thead th {\n",
       "        text-align: right;\n",
       "    }\n",
       "</style>\n",
       "<table border=\"1\" class=\"dataframe\">\n",
       "  <thead>\n",
       "    <tr style=\"text-align: right;\">\n",
       "      <th></th>\n",
       "      <th>geometry</th>\n",
       "      <th>bbox_north</th>\n",
       "      <th>bbox_south</th>\n",
       "      <th>bbox_east</th>\n",
       "      <th>bbox_west</th>\n",
       "      <th>place_id</th>\n",
       "      <th>osm_type</th>\n",
       "      <th>osm_id</th>\n",
       "      <th>lat</th>\n",
       "      <th>lon</th>\n",
       "      <th>class</th>\n",
       "      <th>type</th>\n",
       "      <th>place_rank</th>\n",
       "      <th>importance</th>\n",
       "      <th>addresstype</th>\n",
       "      <th>name</th>\n",
       "      <th>display_name</th>\n",
       "    </tr>\n",
       "  </thead>\n",
       "  <tbody>\n",
       "    <tr>\n",
       "      <th>0</th>\n",
       "      <td>POLYGON ((-61.48012 15.53727, -61.47996 15.536...</td>\n",
       "      <td>15.640275</td>\n",
       "      <td>15.207632</td>\n",
       "      <td>-61.240093</td>\n",
       "      <td>-61.480117</td>\n",
       "      <td>277571046</td>\n",
       "      <td>relation</td>\n",
       "      <td>7161200</td>\n",
       "      <td>15.424043</td>\n",
       "      <td>-61.341853</td>\n",
       "      <td>place</td>\n",
       "      <td>island</td>\n",
       "      <td>17</td>\n",
       "      <td>0.678697</td>\n",
       "      <td>island</td>\n",
       "      <td>Dominica</td>\n",
       "      <td>Dominica, Roseau, Saint Joseph Parish, Dominica</td>\n",
       "    </tr>\n",
       "  </tbody>\n",
       "</table>\n",
       "</div>"
      ],
      "text/plain": [
       "                                            geometry  bbox_north  bbox_south  \\\n",
       "0  POLYGON ((-61.48012 15.53727, -61.47996 15.536...   15.640275   15.207632   \n",
       "\n",
       "   bbox_east  bbox_west   place_id  osm_type   osm_id        lat        lon  \\\n",
       "0 -61.240093 -61.480117  277571046  relation  7161200  15.424043 -61.341853   \n",
       "\n",
       "   class    type  place_rank  importance addresstype      name  \\\n",
       "0  place  island          17    0.678697      island  Dominica   \n",
       "\n",
       "                                      display_name  \n",
       "0  Dominica, Roseau, Saint Joseph Parish, Dominica  "
      ]
     },
     "execution_count": 13,
     "metadata": {},
     "output_type": "execute_result"
    }
   ],
   "source": [
    "# Define the area of interest (AOI). Dominica OSMID = \"R7161200\"\n",
    "place_name = \"Dominica\"\n",
    "area_of_interest = ox.geocode_to_gdf(query=\"R7161200\", by_osmid=True)\n"
   ]
  },
  {
   "cell_type": "code",
   "execution_count": null,
   "metadata": {},
   "outputs": [
    {
     "name": "stdout",
     "output_type": "stream",
     "text": [
      "Geometry is valid for OSMnx.\n"
     ]
    }
   ],
   "source": [
    "#convert GDF to polygon and check its valid for OSMNX\n",
    "\n",
    "from shapely.geometry import Polygon, MultiPolygon\n",
    "\n",
    "# Assuming `area of interest` contains a single row with the area of interest\n",
    "area_of_interest_poly = area_of_interest.geometry.iloc[0]\n",
    "\n",
    "# Ensure it's a valid polygon or multipolygon for OSMnx\n",
    "if isinstance(area_of_interest_poly, (Polygon, MultiPolygon)):\n",
    "    print(\"Geometry is valid for OSMnx.\")\n",
    "else:\n",
    "    raise ValueError(\"The geometry is not a Polygon or MultiPolygon.\")\n"
   ]
  },
  {
   "cell_type": "code",
   "execution_count": 26,
   "metadata": {},
   "outputs": [],
   "source": [
    "#Get bridges from area of interest\n",
    "bridges = ox.features_from_polygon(area_of_interest_poly, tags={\n",
    "    'bridge': True\n",
    "    })"
   ]
  },
  {
   "cell_type": "code",
   "execution_count": 27,
   "metadata": {},
   "outputs": [
    {
     "data": {
      "image/png": "[encoded data removed]",
      "text/plain": [
       "<Figure size 640x480 with 1 Axes>"
      ]
     },
     "metadata": {},
     "output_type": "display_data"
    }
   ],
   "source": [
    "# Plot the area and buildings for visualization\n",
    "\n",
    "fig, ax = plt.subplots()\n",
    "area_of_interest.boundary.plot(ax=ax, color=\"red\")\n",
    "bridges.plot(ax=ax, color=\"blue\", alpha=0.7)\n",
    "plt.show()"
   ]
  }
 ],
 "metadata": {
  "kernelspec": {
   "display_name": "ml_env",
   "language": "python",
   "name": "python3"
  },
  "language_info": {
   "codemirror_mode": {
    "name": "ipython",
    "version": 3
   },
   "file_extension": ".py",
   "mimetype": "text/x-python",
   "name": "python",
   "nbconvert_exporter": "python",
   "pygments_lexer": "ipython3",
   "version": "3.12.7"
  }
 },
 "nbformat": 4,
 "nbformat_minor": 2
}
